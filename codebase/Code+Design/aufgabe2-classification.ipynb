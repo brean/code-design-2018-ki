{
 "cells": [
  {
   "cell_type": "markdown",
   "metadata": {},
   "source": [
    "# Aufgabe 03: Klassifiziere Mann und Frau\n",
    "Deine Aufgabe ist es ein neuronales Netz zu bauen, das ein Bild eines Gesichts bekommt und als Ausgabe einen Vektor [1, 0] für Mann und [0, 1] für Frau ausgibt.\n",
    "\n",
    "### Hinweise\n",
    "* Keras kann den Datenbestand selbst in Trainings- und Testdaten trennen, dazu bei `model.fit` den Parameter `validation_split` entsprechend setzen (Beispielsweise 0.2, um 20% der Daten für die Validierung zu verwenden)\n",
    "* Convolutional Layer: https://keras.io/layers/convolutional/#conv2d (Mach dir auch Gedanken über Padding) \n",
    "* Maxpooling Layer: https://keras.io/layers/pooling/#maxpooling2d \n",
    "* Du musst die Bildpixel vor der Klassifizierung \"flach machen\", flatten: https://keras.io/layers/core/#flatten \n",
    "* Für die Klassifizierung benötigst du mindestens als letzten Layer einen Fully Connected (Dense) Layer\n",
    "* Setze bei `model.compile` den Parameter `metrics=['accuracy']`\n",
    "* Setze bei `model.fit` die Paramter `verbose=0` und `callbacks=[TQDMNotebookCallback()]`\n",
    "* Alternative: Statt „Pooling Layer“ den Parameter `strides` von Conv2d verwenden\n",
    "* Tipp: Zuerst mit wenigen Daten trainieren und testen, danach die Datenmenge erhöhen"
   ]
  },
  {
   "cell_type": "markdown",
   "metadata": {},
   "source": [
    "### Importiere Bibliotheken"
   ]
  },
  {
   "cell_type": "code",
   "execution_count": null,
   "metadata": {
    "collapsed": false
   },
   "outputs": [],
   "source": [
    "import numpy as np\n",
    "\n",
    "from keras.models import Sequential\n",
    "from keras import losses\n",
    "from keras import optimizers\n",
    "from keras.layers import Conv2D, InputLayer, Dense, Dropout, Flatten, MaxPool2D\n",
    "from keras_tqdm import TQDMNotebookCallback\n",
    "\n",
    "import matplotlib.pyplot as plt\n",
    "\n",
    "import utils"
   ]
  },
  {
   "cell_type": "markdown",
   "metadata": {},
   "source": [
    "### Lade Bilder"
   ]
  },
  {
   "cell_type": "code",
   "execution_count": null,
   "metadata": {
    "collapsed": false,
    "scrolled": true
   },
   "outputs": [],
   "source": [
    "#Lade n Gesichter und zugehörige Kategorisierung. In der SEU sind insgesamt 1000 Bilder gespeichert\n",
    "n = 1000\n",
    "X,Y = utils.LoadFaces(n)\n",
    "print(X.shape)\n",
    "print(Y.shape)\n",
    "width = X.shape[2]\n",
    "height = X.shape[1]"
   ]
  },
  {
   "cell_type": "markdown",
   "metadata": {},
   "source": [
    "## Betrachte die Bilder"
   ]
  },
  {
   "cell_type": "code",
   "execution_count": null,
   "metadata": {
    "collapsed": false
   },
   "outputs": [],
   "source": [
    "# Ändere den Index, um weitere Bilder zu sehen \n",
    "idx = 1\n",
    "# [0, 1] = Frau, [1, 0] = Mann\n",
    "print(Y[idx])\n",
    "utils.ShowImage(X[idx])"
   ]
  },
  {
   "cell_type": "markdown",
   "metadata": {},
   "source": [
    "### <span style=\"color:red\">TODO:</span> Definiere das Modell"
   ]
  },
  {
   "cell_type": "code",
   "execution_count": null,
   "metadata": {
    "collapsed": false
   },
   "outputs": [],
   "source": [
    "model = Sequential()\n",
    "\n",
    "# Definition der Dimension der Inputdaten. \n",
    "model.add(InputLayer(input_shape=(...?)))\n",
    "# Definition des Models\n",
    "model.add(...)\n",
    "...\n",
    "\n",
    "model.summary()"
   ]
  },
  {
   "cell_type": "markdown",
   "metadata": {},
   "source": [
    "### <span style=\"color:red\">TODO:</span> Konfiguriere den Lernalgorithmus"
   ]
  },
  {
   "cell_type": "code",
   "execution_count": null,
   "metadata": {
    "collapsed": false
   },
   "outputs": [],
   "source": [
    "# Optimizer & Loss \n",
    "optimizer = ...\n",
    "loss = ...\n",
    "# Model kompilieren, Loss Function und Optimizer übergeben\n",
    "model.compile(loss=loss, optimizer=optimizer, metrics=['accuracy'])"
   ]
  },
  {
   "cell_type": "markdown",
   "metadata": {},
   "source": [
    "### <span style=\"color:red\">TODO:</span> Lass dein Modell lernen"
   ]
  },
  {
   "cell_type": "code",
   "execution_count": null,
   "metadata": {
    "collapsed": false
   },
   "outputs": [],
   "source": [
    "# Du kannst batch_size, Anzahl der Epochen und den validation_split anpassen \n",
    "# Denk daran, den Parameter callbacks=[TQDMNotebookCallback()] zu übergeben und verbose=0 zu setzen\n",
    "history = model.fit(...)"
   ]
  },
  {
   "cell_type": "markdown",
   "metadata": {},
   "source": [
    "### Testphase"
   ]
  },
  {
   "cell_type": "code",
   "execution_count": null,
   "metadata": {
    "collapsed": false
   },
   "outputs": [],
   "source": [
    "# Ändere den Index, um weitere Bilder anzuschauen\n",
    "idx = 100\n",
    "output = model.predict(X[idx:idx+1])[0]\n",
    "print(\"%.2f %% confidence for a man\\n%.2f %% confidence for a woman\" % (output[0] * 100, output[1] * 100))\n",
    "if (output[0] < output[1]) :\n",
    "    print(\">>> IT'S A WOMAN\")\n",
    "else :\n",
    "    print(\">>> IT'S A MAN\")\n",
    "utils.ShowImage(X[idx])"
   ]
  },
  {
   "cell_type": "markdown",
   "metadata": {},
   "source": [
    "### Plotte die KPIs"
   ]
  },
  {
   "cell_type": "code",
   "execution_count": null,
   "metadata": {
    "collapsed": false
   },
   "outputs": [],
   "source": [
    "plt.plot(history.history['acc'], label='training accuracy')\n",
    "plt.plot(history.history['val_acc'], label='validation accuracy')\n",
    "plt.legend(loc='center left', bbox_to_anchor=(1, 0.5))\n",
    "plt.ylabel('accuracy')\n",
    "plt.xlabel('iterations')\n",
    "plt.show()"
   ]
  }
 ],
 "metadata": {
  "anaconda-cloud": {},
  "kernelspec": {
   "display_name": "Python [default]",
   "language": "python",
   "name": "python3"
  },
  "language_info": {
   "codemirror_mode": {
    "name": "ipython",
    "version": 3
   },
   "file_extension": ".py",
   "mimetype": "text/x-python",
   "name": "python",
   "nbconvert_exporter": "python",
   "pygments_lexer": "ipython3",
   "version": "3.5.2"
  }
 },
 "nbformat": 4,
 "nbformat_minor": 1
}
